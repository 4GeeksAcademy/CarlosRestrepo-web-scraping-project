{
 "cells": [
  {
   "cell_type": "code",
   "execution_count": 3,
   "id": "b9a25147",
   "metadata": {},
   "outputs": [
    {
     "data": {
      "text/plain": [
       "200"
      ]
     },
     "execution_count": 3,
     "metadata": {},
     "output_type": "execute_result"
    }
   ],
   "source": [
    "import os\n",
    "from bs4 import BeautifulSoup\n",
    "import requests\n",
    "import time\n",
    "import sqlite3\n",
    "import matplotlib.pyplot as plt\n",
    "import seaborn as sns\n",
    "import pandas as pd\n",
    "import io      \n",
    "import matplotlib.pyplot as plt\n",
    "import seaborn as sns\n",
    "\n",
    "\n",
    "resource_url = 'https://books.toscrape.com/'\n",
    "response = requests.get(resource_url, timeout=5)\n",
    "response.status_code"
   ]
  },
  {
   "cell_type": "code",
   "execution_count": 4,
   "id": "f282f85e",
   "metadata": {},
   "outputs": [
    {
     "data": {
      "text/plain": [
       "20"
      ]
     },
     "execution_count": 4,
     "metadata": {},
     "output_type": "execute_result"
    }
   ],
   "source": [
    "soup = BeautifulSoup(response.text, 'html.parser')\n",
    "contenedores_libros = soup.find_all('article', class_='product_pod')  \n",
    "len(contenedores_libros)"
   ]
  },
  {
   "cell_type": "code",
   "execution_count": 5,
   "id": "4308e149",
   "metadata": {},
   "outputs": [
    {
     "data": {
      "text/html": [
       "<div>\n",
       "<style scoped>\n",
       "    .dataframe tbody tr th:only-of-type {\n",
       "        vertical-align: middle;\n",
       "    }\n",
       "\n",
       "    .dataframe tbody tr th {\n",
       "        vertical-align: top;\n",
       "    }\n",
       "\n",
       "    .dataframe thead th {\n",
       "        text-align: right;\n",
       "    }\n",
       "</style>\n",
       "<table border=\"1\" class=\"dataframe\">\n",
       "  <thead>\n",
       "    <tr style=\"text-align: right;\">\n",
       "      <th></th>\n",
       "      <th>Titulo</th>\n",
       "      <th>Precio</th>\n",
       "      <th>Disponibilidad</th>\n",
       "    </tr>\n",
       "  </thead>\n",
       "  <tbody>\n",
       "    <tr>\n",
       "      <th>0</th>\n",
       "      <td>A Light in the Attic</td>\n",
       "      <td>51.77</td>\n",
       "      <td>In stock</td>\n",
       "    </tr>\n",
       "    <tr>\n",
       "      <th>1</th>\n",
       "      <td>Tipping the Velvet</td>\n",
       "      <td>53.74</td>\n",
       "      <td>In stock</td>\n",
       "    </tr>\n",
       "    <tr>\n",
       "      <th>2</th>\n",
       "      <td>Soumission</td>\n",
       "      <td>50.10</td>\n",
       "      <td>In stock</td>\n",
       "    </tr>\n",
       "    <tr>\n",
       "      <th>3</th>\n",
       "      <td>Sharp Objects</td>\n",
       "      <td>47.82</td>\n",
       "      <td>In stock</td>\n",
       "    </tr>\n",
       "    <tr>\n",
       "      <th>4</th>\n",
       "      <td>Sapiens: A Brief His</td>\n",
       "      <td>54.23</td>\n",
       "      <td>In stock</td>\n",
       "    </tr>\n",
       "    <tr>\n",
       "      <th>5</th>\n",
       "      <td>The Requiem Red</td>\n",
       "      <td>22.65</td>\n",
       "      <td>In stock</td>\n",
       "    </tr>\n",
       "    <tr>\n",
       "      <th>6</th>\n",
       "      <td>The Dirty Little Sec</td>\n",
       "      <td>33.34</td>\n",
       "      <td>In stock</td>\n",
       "    </tr>\n",
       "    <tr>\n",
       "      <th>7</th>\n",
       "      <td>The Coming Woman: A</td>\n",
       "      <td>17.93</td>\n",
       "      <td>In stock</td>\n",
       "    </tr>\n",
       "    <tr>\n",
       "      <th>8</th>\n",
       "      <td>The Boys in the Boat</td>\n",
       "      <td>22.60</td>\n",
       "      <td>In stock</td>\n",
       "    </tr>\n",
       "    <tr>\n",
       "      <th>9</th>\n",
       "      <td>The Black Maria</td>\n",
       "      <td>52.15</td>\n",
       "      <td>In stock</td>\n",
       "    </tr>\n",
       "    <tr>\n",
       "      <th>10</th>\n",
       "      <td>Starving Hearts (Tri</td>\n",
       "      <td>13.99</td>\n",
       "      <td>In stock</td>\n",
       "    </tr>\n",
       "    <tr>\n",
       "      <th>11</th>\n",
       "      <td>Shakespeare's Sonnet</td>\n",
       "      <td>20.66</td>\n",
       "      <td>In stock</td>\n",
       "    </tr>\n",
       "    <tr>\n",
       "      <th>12</th>\n",
       "      <td>Set Me Free</td>\n",
       "      <td>17.46</td>\n",
       "      <td>In stock</td>\n",
       "    </tr>\n",
       "    <tr>\n",
       "      <th>13</th>\n",
       "      <td>Scott Pilgrim's Prec</td>\n",
       "      <td>52.29</td>\n",
       "      <td>In stock</td>\n",
       "    </tr>\n",
       "    <tr>\n",
       "      <th>14</th>\n",
       "      <td>Rip it Up and Start</td>\n",
       "      <td>35.02</td>\n",
       "      <td>In stock</td>\n",
       "    </tr>\n",
       "    <tr>\n",
       "      <th>15</th>\n",
       "      <td>Our Band Could Be Yo</td>\n",
       "      <td>57.25</td>\n",
       "      <td>In stock</td>\n",
       "    </tr>\n",
       "    <tr>\n",
       "      <th>16</th>\n",
       "      <td>Olio</td>\n",
       "      <td>23.88</td>\n",
       "      <td>In stock</td>\n",
       "    </tr>\n",
       "    <tr>\n",
       "      <th>17</th>\n",
       "      <td>Mesaerion: The Best</td>\n",
       "      <td>37.59</td>\n",
       "      <td>In stock</td>\n",
       "    </tr>\n",
       "    <tr>\n",
       "      <th>18</th>\n",
       "      <td>Libertarianism for B</td>\n",
       "      <td>51.33</td>\n",
       "      <td>In stock</td>\n",
       "    </tr>\n",
       "    <tr>\n",
       "      <th>19</th>\n",
       "      <td>It's Only the Himala</td>\n",
       "      <td>45.17</td>\n",
       "      <td>In stock</td>\n",
       "    </tr>\n",
       "  </tbody>\n",
       "</table>\n",
       "</div>"
      ],
      "text/plain": [
       "                  Titulo Precio Disponibilidad\n",
       "0   A Light in the Attic  51.77       In stock\n",
       "1     Tipping the Velvet  53.74       In stock\n",
       "2             Soumission  50.10       In stock\n",
       "3          Sharp Objects  47.82       In stock\n",
       "4   Sapiens: A Brief His  54.23       In stock\n",
       "5        The Requiem Red  22.65       In stock\n",
       "6   The Dirty Little Sec  33.34       In stock\n",
       "7   The Coming Woman: A   17.93       In stock\n",
       "8   The Boys in the Boat  22.60       In stock\n",
       "9        The Black Maria  52.15       In stock\n",
       "10  Starving Hearts (Tri  13.99       In stock\n",
       "11  Shakespeare's Sonnet  20.66       In stock\n",
       "12           Set Me Free  17.46       In stock\n",
       "13  Scott Pilgrim's Prec  52.29       In stock\n",
       "14  Rip it Up and Start   35.02       In stock\n",
       "15  Our Band Could Be Yo  57.25       In stock\n",
       "16                  Olio  23.88       In stock\n",
       "17  Mesaerion: The Best   37.59       In stock\n",
       "18  Libertarianism for B  51.33       In stock\n",
       "19  It's Only the Himala  45.17       In stock"
      ]
     },
     "execution_count": 5,
     "metadata": {},
     "output_type": "execute_result"
    }
   ],
   "source": [
    "datos_libros = []\n",
    "for libro in contenedores_libros:\n",
    "    titulo = libro.select_one('a[title]')['title'].strip()    \n",
    "    precio = libro.select_one('p.price_color').text.strip()   \n",
    "    disponibilidad = libro.select_one('p.instock.availability').text.strip()\n",
    "    datos_libros.append({\n",
    "        'Titulo': titulo[:20],\n",
    "        'Precio': precio[2:],\n",
    "        'Disponibilidad': disponibilidad\n",
    "    })\n",
    "\n",
    "df_libros = pd.DataFrame(datos_libros)\n",
    "df_libros"
   ]
  },
  {
   "cell_type": "code",
   "execution_count": 6,
   "id": "910b6680",
   "metadata": {},
   "outputs": [],
   "source": [
    "#Limpiar dataframe\n",
    "df_libros['Precio'] = (\n",
    "    df_libros['Precio']\n",
    "    .astype(str)\n",
    "    .str.replace('£', '', regex=False)\n",
    "    .str.replace(',', '', regex=False)\n",
    "    .str.strip()\n",
    ")\n",
    "df_libros['Precio'] = pd.to_numeric(df_libros['Precio'], errors='coerce') \n",
    "df_libros.dropna(subset=['Precio'], inplace=True)"
   ]
  },
  {
   "cell_type": "code",
   "execution_count": 7,
   "id": "9769a8fc",
   "metadata": {},
   "outputs": [
    {
     "name": "stdout",
     "output_type": "stream",
     "text": [
      "                 Titulo  Precio Disponibilidad\n",
      "0  A Light in the Attic   51.77       In stock\n",
      "1    Tipping the Velvet   53.74       In stock\n",
      "2            Soumission   50.10       In stock\n",
      "3         Sharp Objects   47.82       In stock\n",
      "4  Sapiens: A Brief His   54.23       In stock\n"
     ]
    }
   ],
   "source": [
    "#BASE DE DATOS\n",
    "DB_NAME = 'catalogo_libros.db'\n",
    "TABLE_NAME = 'libros'\n",
    "\n",
    "conn = sqlite3.connect(DB_NAME)  \n",
    "    #.to_sql() hace un commit implícito\n",
    "df_libros.to_sql(TABLE_NAME, conn, if_exists='replace', index=False)\n",
    "    \n",
    "conn.commit() #Commit opcional pero buena práctica\n",
    "\n",
    "df_verificacion = pd.read_sql(\"SELECT * FROM libros LIMIT 5\", conn)\n",
    "    \n",
    "print(df_verificacion)\n",
    "conn.close()"
   ]
  },
  {
   "cell_type": "code",
   "execution_count": null,
   "id": "4a7ef8fc",
   "metadata": {},
   "outputs": [
    {
     "data": {
      "image/png": "[encoded data removed]",
      "text/plain": [
       "<Figure size 1000x500 with 1 Axes>"
      ]
     },
     "metadata": {},
     "output_type": "display_data"
    }
   ],
   "source": [
    "#VISUALIZACIÓN\n",
    "\n",
    "plt.figure(figsize=(10, 5))\n",
    "sns.histplot(df_libros['Precio'], bins=20)\n",
    "plt.title('Distribución de Precios de los Libros')\n",
    "plt.xlabel('Precio (£)')\n",
    "plt.ylabel('Número de Libros')\n",
    "plt.show()"
   ]
  },
  {
   "cell_type": "markdown",
   "id": "5332fbf7",
   "metadata": {},
   "source": [
    "> Se puede observar como el precio de la mayoría de libros ronda los 50£, mientras que también hay un variedad de libros que se posicionan con precios asequibles."
   ]
  },
  {
   "cell_type": "code",
   "execution_count": null,
   "id": "a630cc33",
   "metadata": {},
   "outputs": [
    {
     "data": {
      "image/png": "[encoded data removed]",
      "text/plain": [
       "<Figure size 800x600 with 1 Axes>"
      ]
     },
     "metadata": {},
     "output_type": "display_data"
    }
   ],
   "source": [
    "plt.figure(figsize=(8, 6))\n",
    "sns.boxplot(\n",
    "    y=df_libros['Precio'],\n",
    "    width=0.5\n",
    ")\n",
    "plt.title('Distribución de Precios')\n",
    "plt.ylabel('Precio (£)')\n",
    "plt.grid()\n",
    "plt.show()"
   ]
  },
  {
   "cell_type": "code",
   "execution_count": 10,
   "id": "3ada8a11",
   "metadata": {},
   "outputs": [],
   "source": [
    "# sns.scatterplot(x='Precio', y=#?, data=df_libros)\n",
    "# plt.title('Gráfico de Dispersión de Iris')\n",
    "# plt.show()"
   ]
  }
 ],
 "metadata": {
  "kernelspec": {
   "display_name": "Python 3",
   "language": "python",
   "name": "python3"
  },
  "language_info": {
   "codemirror_mode": {
    "name": "ipython",
    "version": 3
   },
   "file_extension": ".py",
   "mimetype": "text/x-python",
   "name": "python",
   "nbconvert_exporter": "python",
   "pygments_lexer": "ipython3",
   "version": "3.11.4"
  }
 },
 "nbformat": 4,
 "nbformat_minor": 5
}
